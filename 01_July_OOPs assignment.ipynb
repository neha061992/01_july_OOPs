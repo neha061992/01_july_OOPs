{
 "cells": [
  {
   "cell_type": "markdown",
   "id": "68df5f18",
   "metadata": {},
   "source": [
    "### Q1.What is the primary goal of Object-Oriented Programming (OOP)?"
   ]
  },
  {
   "cell_type": "markdown",
   "id": "3fc77b5e",
   "metadata": {},
   "source": [
    "\n",
    "\n",
    "Ans:The primary goal of Object-Oriented Programming (OOP) is to\n",
    "provide a clear and organized way to design and structure computer \n",
    "programs by modeling them around objects. OOP aims to improve software \n",
    "development by promoting concepts such as encapsulation, inheritance, and polymorphism.\n",
    "\n",
    "Here are some key goals of OOP:\n",
    "*Modularity\n",
    "*Reusability\n",
    "*Encapsulattion\n",
    "*Abstraction\n",
    "*Polymorphism.\n",
    "\n",
    "By achieving these goals,OOP enables developers to build modular,reusable and maintainable software\n",
    "system that closely model  real-world entities and provide and efficient way to manage complexcity\n",
    "in large scale projects.\n",
    "\n",
    "\n"
   ]
  },
  {
   "cell_type": "markdown",
   "id": "07734b2b",
   "metadata": {},
   "source": [
    "### Q2 What is an object in Python?"
   ]
  },
  {
   "cell_type": "markdown",
   "id": "8b255058",
   "metadata": {},
   "source": [
    "\n",
    "\n",
    "Ans:-In Python, an object is a fundamental concept that represents a specific instance of a class. \n",
    "It is the basic building block of object-oriented programming in Python. An object is created from a \n",
    "class, which serves as a blueprint or template defining its properties (attributes) and behaviors (methods).\n",
    "\n",
    "When we create an object, we are essentially creating a unique instance of the class. Each object has its \n",
    "own set of attributes, which are variables associated with the object, and methods, which are functions that\n",
    "define the behavior of the object.\n",
    "Objects in Python have the ability to store data (attributes) and perform actions (methods) based on that data. \n",
    "\n",
    "For example,we can create a class called \"Car\" that defines attributes like \"color\" and \"model,\" and methods \n",
    "like \"start_engine\" and \"accelerate.\" Then, we can create multiple objects (instances) of the \"Car\" class, \n",
    "each with its own specific color, model, and the ability to perform actions defined by the methods."
   ]
  },
  {
   "cell_type": "code",
   "execution_count": 9,
   "id": "c4a1f12f",
   "metadata": {},
   "outputs": [
    {
     "name": "stdout",
     "output_type": "stream",
     "text": [
      "Red\n",
      "suv\n",
      "Engine started\n"
     ]
    }
   ],
   "source": [
    "#Example:-\n",
    "\n",
    "class Car:\n",
    "    def __init__(self,color,model):\n",
    "        self.color=color\n",
    "        self.model=model\n",
    "        \n",
    "    def start_engine(self):\n",
    "        print(\"Engine started\")\n",
    " \n",
    "# creating an object of the car class\n",
    "\n",
    "my_car=Car(\"Red\",\"suv\")\n",
    "\n",
    "print(my_car.color)\n",
    "print(my_car.model)\n",
    "\n",
    "#Calling object methods:\n",
    "\n",
    "my_car.start_engine()\n",
    "        "
   ]
  },
  {
   "cell_type": "markdown",
   "id": "e1098729",
   "metadata": {},
   "source": [
    "### Q3. What is a class in Python?"
   ]
  },
  {
   "cell_type": "markdown",
   "id": "1e22ad04",
   "metadata": {},
   "source": [
    "\n",
    "\n",
    "Ans:- In Python, a class is a blueprint or a template that defines the attributes and behaviors of objects. \n",
    "It is a fundamental concept of object-oriented programming (OOP) that allows to create objects with \n",
    "specific characteristics and functionalities.\n",
    "\n",
    "A class serves as a blueprint for creating objects by specifying the attributes (data) and methods \n",
    "(functions) that the objects will have. The attributes are variables that hold data, and the methods \n",
    "define the behavior or actions that the objects can perform.\n",
    "\n",
    "\n",
    "\n"
   ]
  },
  {
   "cell_type": "code",
   "execution_count": 17,
   "id": "f77d44b4",
   "metadata": {},
   "outputs": [
    {
     "name": "stdout",
     "output_type": "stream",
     "text": [
      "Area 1: 250\n",
      "Area 2: 150\n",
      "Perimeter 1: 70\n",
      "Perimeter 2: 50\n"
     ]
    }
   ],
   "source": [
    "#Example:-\n",
    "    \n",
    "class Rectangle:\n",
    "    def __init__(self,length,width):\n",
    "        self.length=length\n",
    "        self.width=width\n",
    "        \n",
    "    def calculate_area(self):\n",
    "        return self.length*self.width\n",
    "    \n",
    "    def calculate_perimeter(self):\n",
    "        return 2*(self.length+self.width)\n",
    "    \n",
    "# creating objects of the rectangle.\n",
    "rectangle1=Rectangle(25,10)\n",
    "rectangle2=Rectangle(15,10)\n",
    "\n",
    "#calculating area and perimeter\n",
    "\n",
    "area1=rectangle1.calculate_area()\n",
    "area2=rectangle2.calculate_area()\n",
    "\n",
    "perimeter1=rectangle1.calculate_perimeter()\n",
    "perimeter2=rectangle2.calculate_perimeter()\n",
    "    \n",
    "print(\"Area 1:\",area1)\n",
    "print(\"Area 2:\",area2)\n",
    "\n",
    "print(\"Perimeter 1:\",perimeter1)\n",
    "print(\"Perimeter 2:\",perimeter2)"
   ]
  },
  {
   "cell_type": "markdown",
   "id": "d8d66e79",
   "metadata": {},
   "source": [
    "### Q4.What are attributes and methods in a class?"
   ]
  },
  {
   "cell_type": "markdown",
   "id": "c4973aa0",
   "metadata": {},
   "source": [
    "In a class, attributes and methods are the two primary components that\n",
    "define the characteristics and behaviors of objects."
   ]
  },
  {
   "cell_type": "markdown",
   "id": "ccc61e32",
   "metadata": {},
   "source": [
    "### Attributes:"
   ]
  },
  {
   "cell_type": "markdown",
   "id": "bbb16c03",
   "metadata": {},
   "source": [
    "Attributes are variables that store data associated with objects. \n",
    "They represent the state or properties of an object. Each object of a \n",
    "class has its own set of attributes, which can have different values for \n",
    "each instance. Attributes define the data that an object can hold.\n"
   ]
  },
  {
   "cell_type": "raw",
   "id": "bb6bd356",
   "metadata": {},
   "source": [
    "Example:-\n",
    "    class Car:\n",
    "        def __init__(self,color,model)\n",
    "            self.color=color\n",
    "            self.model=model\n",
    "In car class,attribute colud includecolor and model.\n",
    "each car object can have its own specific value for these attribute\n",
    "\n",
    "\n"
   ]
  },
  {
   "cell_type": "markdown",
   "id": "b06dc6a9",
   "metadata": {},
   "source": [
    "### Method:-"
   ]
  },
  {
   "cell_type": "markdown",
   "id": "584e391b",
   "metadata": {},
   "source": [
    "Methods are functions that define the behavior of objects. They represent the actions or\n",
    "operations that objects can perform. Methods are associated with a class and can access \n",
    "and manipulate the attributes of the class.\n",
    "\n",
    "Methods are defined within the class and can be called on objects of that class. They can take\n",
    "parameters, perform operations, and return values if necessary.\n",
    "\n",
    "For example, in a Car class, methods could include start_engine(), accelerate(speed), and brake(). \n",
    "These methods define the actions a car object can take, such as starting the engine, accelerating to \n",
    "a specific speed, or applying the brakes.\n",
    "\n",
    "Methods are called using dot notation (object.method_name()) on an object of the class.\n",
    "For example, if car is an object of the Car class with a start_engine() method, \n",
    "we can call it using car.start_engine().\n",
    "\n",
    "Attributes and methods work together to define the behavior and characteristics of objects within a class. \n",
    "Attributes store data, while methods define the actions or operations that objects can perform on that data.\n"
   ]
  },
  {
   "cell_type": "markdown",
   "id": "f0ee1c98",
   "metadata": {},
   "source": [
    "\n",
    "\n",
    "\n",
    "Attributes can be accessed and modified using dot notation (object.attribute_name). \n",
    "If car is an object of the Car class with a color attribute, you can access it using car.color."
   ]
  },
  {
   "cell_type": "markdown",
   "id": "a01e4a03",
   "metadata": {},
   "source": [
    "### 5. What is the difference between class variables and instance variables in Python?\n"
   ]
  },
  {
   "cell_type": "markdown",
   "id": "5c475047",
   "metadata": {},
   "source": [
    "In Python, class variables and instance variables are two different types of variables that serve distinct purposes within a class. Here are the key differences between them:\n",
    "\n"
   ]
  },
  {
   "cell_type": "markdown",
   "id": "a80e6a7a",
   "metadata": {},
   "source": [
    "### Class Variables:"
   ]
  },
  {
   "cell_type": "markdown",
   "id": "9e872dce",
   "metadata": {},
   "source": [
    "Class variables are shared among all instances (objects) of a class. They are defined inside the class but outside any instance methods.\n",
    "They are associated with the class itself and not with individual instances, which means their value remains the same across all objects of that class.\n",
    "Class variables are usually used to store data that is common to all instances of the class.\n",
    "If you modify the value of a class variable in one instance, the change will be reflected in all other instances as well.\n"
   ]
  },
  {
   "cell_type": "code",
   "execution_count": 11,
   "id": "2ce35986",
   "metadata": {},
   "outputs": [
    {
     "name": "stdout",
     "output_type": "stream",
     "text": [
      "10\n",
      "10\n",
      "15\n",
      "10\n"
     ]
    }
   ],
   "source": [
    "#Example of a class variable:\n",
    "\n",
    "class Myclass:\n",
    "    instance_variable=10\n",
    "\n",
    "obj1=Myclass()\n",
    "obj2=Myclass()\n",
    "\n",
    "print(obj1.instance_variable)\n",
    "print(obj2.instance_variable)\n",
    "\n",
    "\n",
    "obj1.instance_variable=15\n",
    "\n",
    "print(obj1.instance_variable)\n",
    "print(obj2.instance_variable)\n",
    "\n",
    "\n"
   ]
  },
  {
   "cell_type": "markdown",
   "id": "d248e8c1",
   "metadata": {},
   "source": [
    "### Instance Variable"
   ]
  },
  {
   "cell_type": "markdown",
   "id": "87c2631c",
   "metadata": {},
   "source": [
    "instance variable are specific to each instance(object)of a clas.They are defined within the class methods and prefixed\n",
    "with self .\n",
    "\n",
    "Each object can have its own unique set of instance variavles with different values."
   ]
  },
  {
   "cell_type": "code",
   "execution_count": 16,
   "id": "5661227a",
   "metadata": {},
   "outputs": [
    {
     "name": "stdout",
     "output_type": "stream",
     "text": [
      "5\n",
      "10\n"
     ]
    }
   ],
   "source": [
    "class Myclass:\n",
    "    def __init__(self,value):\n",
    "        self.instance_variable=value\n",
    "\n",
    "obj1=Myclass(5)\n",
    "obj2=Myclass(10)\n",
    "\n",
    "print(obj1.instance_variable) \n",
    "print(obj2.instance_variable)\n",
    "        "
   ]
  },
  {
   "cell_type": "code",
   "execution_count": 17,
   "id": "54f152d8",
   "metadata": {},
   "outputs": [
    {
     "name": "stdout",
     "output_type": "stream",
     "text": [
      "25\n",
      "10\n"
     ]
    }
   ],
   "source": [
    "obj1.instance_variable=25\n",
    "\n",
    "print(obj1.instance_variable) \n",
    "print(obj2.instance_variable)"
   ]
  },
  {
   "cell_type": "markdown",
   "id": "66b51f83",
   "metadata": {},
   "source": [
    "### 6. What is the purpose of the self parameter in Python class methods?"
   ]
  },
  {
   "cell_type": "markdown",
   "id": "de017f00",
   "metadata": {},
   "source": [
    "In Python, the self parameter in class methods refers to the instance of the class itself. It is a \n",
    "convention and not a reserved keyword. When defining methods within a class, you need to include \n",
    "self as the first parameter in the method's definition.\n",
    "\n",
    "The purpose of the self parameter is to give access to the instance's attributes and methods from\n",
    "within the class. When you call a method on an instance of a class, Python automatically passes the \n",
    "instance as the first argument to the method. This allows\n",
    "you to work with the instance's data and manipulate it as needed."
   ]
  },
  {
   "cell_type": "code",
   "execution_count": 25,
   "id": "1bae3f04",
   "metadata": {},
   "outputs": [
    {
     "name": "stdout",
     "output_type": "stream",
     "text": [
      "20\n"
     ]
    }
   ],
   "source": [
    "#Example:-\n",
    "    \n",
    "class Myclass:\n",
    "    def __init__(self,x):\n",
    "        self.x=x\n",
    "        \n",
    "    def double_x(self):\n",
    "        return self.x*2\n",
    "    \n",
    "##creating an instance of Myclass \n",
    "\n",
    "obj=Myclass(10)\n",
    "\n",
    "#call the method with the instance\n",
    "result=obj.double_x()\n",
    "\n",
    "print(result)\n",
    "\n",
    "    "
   ]
  },
  {
   "cell_type": "markdown",
   "id": "6146049b",
   "metadata": {},
   "source": [
    "### 7. For a library management system, you have to design the \"Book\" class with OOP\n",
    "principles in mind. The “Book” class will have following attributes:\n",
    "a. title: Represents the title of the book.\n",
    "\n",
    "\n",
    "b. author: Represents the author(s) of the book.\n",
    "\n",
    "c. isbn: Represents the ISBN (International Standard Book Number) of the book.\n",
    "\n",
    "d. publication_year: Represents the year of publication of the book.\n",
    "\n",
    "e. available_copies: Represents the number of copies available for checkout.\n",
    "\n",
    "The class will also include the following methods:\n",
    "a. check_out(self): Decrements the available copies by one if there are copies\n",
    "available for checkout.\n",
    "\n",
    "b. return_book(self): Increments the available copies by one when a book is\n",
    "returned.\n",
    "\n",
    "c. display_book_info(self): Displays the information about the book, including its\n",
    "attributes and the number of available copies."
   ]
  },
  {
   "cell_type": "code",
   "execution_count": 50,
   "id": "3688aacd",
   "metadata": {},
   "outputs": [
    {
     "name": "stdout",
     "output_type": "stream",
     "text": [
      "Title: Sample Book\n",
      "Author(s): John Doe\n",
      "ISBN: 1234567890\n",
      "Publication Year: 2023\n",
      "Available Copies: 5\n",
      "Book 'Sample Book' checked out. Available copies: 4\n",
      "Book 'Sample Book' checked out. Available copies: 3\n",
      "Book 'Sample Book' returned. Available copies: 4\n",
      "Title: Sample Book\n",
      "Author(s): John Doe\n",
      "ISBN: 1234567890\n",
      "Publication Year: 2023\n",
      "Available Copies: 4\n"
     ]
    }
   ],
   "source": [
    "class Book:\n",
    "    def __init__(self, title, author, isbn, publication_year, available_copies):\n",
    "        self.title = title\n",
    "        self.author = author\n",
    "        self.isbn = isbn\n",
    "        self.publication_year = publication_year\n",
    "        self.available_copies = available_copies\n",
    "\n",
    "    def check_out(self):\n",
    "        if self.available_copies > 0:\n",
    "            self.available_copies -= 1\n",
    "            print(f\"Book '{self.title}' checked out. Available copies: {self.available_copies}\")\n",
    "        else:\n",
    "            print(f\"Sorry, '{self.title}' is currently not available for checkout.\")\n",
    "\n",
    "    def return_book(self):\n",
    "        self.available_copies += 1\n",
    "        print(f\"Book '{self.title}' returned. Available copies: {self.available_copies}\")\n",
    "\n",
    "    def display_book_info(self):\n",
    "        print(f\"Title: {self.title}\")\n",
    "        print(f\"Author(s): {', '.join(self.author)}\")\n",
    "        print(f\"ISBN: {self.isbn}\")\n",
    "        print(f\"Publication Year: {self.publication_year}\")\n",
    "        print(f\"Available Copies: {self.available_copies}\")\n",
    "\n",
    "\n",
    "##creating an instance of Myclass\n",
    "book1 = Book(\"Sample Book\", [\"John Doe\"], \"1234567890\", 2023, 5)\n",
    "book1.display_book_info()\n",
    "\n",
    "book1.check_out()\n",
    "book1.check_out()\n",
    "book1.return_book()\n",
    "\n",
    "book1.display_book_info()\n"
   ]
  },
  {
   "cell_type": "markdown",
   "id": "9b86f59f",
   "metadata": {},
   "source": [
    "### 8. For a ticket booking system, you have to design the \"Ticket\" class with OOPprinciples in mind. The “Ticket” class should have the following attributes:\n",
    "\n",
    "a. ticket_id: Represents the unique identifier for the ticket.\n",
    "\n",
    "b. event_name: Represents the name of the event.\n",
    "\n",
    "c. event_date: Represents the date of the event.\n",
    "\n",
    "d. venue: Represents the venue of the event.\n",
    "\n",
    "e. seat_number: Represents the seat number associated with the ticket.\n",
    "\n",
    "f. price: Represents the price of the ticket.\n",
    "\n",
    "g. is_reserved: Represents the reservation status of the ticket.\n",
    "\n",
    "The class also includes the following methods:\n",
    "\n",
    "a. reserve_ticket(self): Marks the ticket as reserved if it is not already reserved.\n",
    "\n",
    "b. cancel_reservation(self): Cancels the reservation of the ticket if it is already\n",
    "reserved.\n",
    "\n",
    "c. display_ticket_info(self): Displays the information about the ticket, including its\n",
    "attributes and reservation status"
   ]
  },
  {
   "cell_type": "code",
   "execution_count": null,
   "id": "9a6d5924",
   "metadata": {},
   "outputs": [],
   "source": [
    "# class Ticket:\n",
    "    def __init__(self,Ticket_id,Event_name,Event_date,Venue,Seat_number,Price):\n",
    "        self.Ticket_id=Ticket_id\n",
    "        self.Event_name=Event_name\n",
    "        self.Event_date=Event_date\n",
    "        self.Venue=Venue\n",
    "        self.Seat_number=Seat_number\n",
    "        self.Price=Price\n",
    "        self.is_reserved = False\n",
    "    \n",
    "    def reserved_ticket(self):\n",
    "        if not self.is_reserved:\n",
    "            self.is_reserved  =True\n",
    "            print(\"Ticket reserved successfully.\")\n",
    "        else:\n",
    "            print(\"Ticket is already reserved.\")\n",
    "            \n",
    "            \n",
    "    def cancel_reservation(self):\n",
    "        if self.is_reserved:\n",
    "            self.is_reserved = False\n",
    "            print(\"Reservation canceled successfully.\")\n",
    "        else:\n",
    "            print(\"Ticket was not reserved,so no reservation to cancel.\")\n",
    "            \n",
    "            \n",
    "    def display_ticket_info(self):\n",
    "        print(\"Ticket Information:\")\n",
    "        print(f\"Ticket ID: {self.Ticket_id}\")\n",
    "        print(f\"Event Name: {self.Event_name}\")\n",
    "        print(f\"Event Date: {self.Event_date}\")\n",
    "        print(f\"Venue: {self.Venue}\")\n",
    "        print(f\"Seat Number: {self.Seat_number}\")\n",
    "        print(f\"Price: {self.Price:.2f}\")\n",
    "        if self.is_reserved:\n",
    "            print(\"Reservation Status: Reserved\")\n",
    "        else:\n",
    "            print(\"Reservation Status: Not Reserved\")\n",
    "        "
   ]
  },
  {
   "cell_type": "code",
   "execution_count": 9,
   "id": "cf3eacc1",
   "metadata": {},
   "outputs": [
    {
     "name": "stdout",
     "output_type": "stream",
     "text": [
      "Ticket Information:\n",
      "Ticket ID: T2023\n",
      "Event Name: New year live show\n",
      "Event Date: 31-12-2023\n",
      "Venue: Central hall\n",
      "Seat Number: S-111\n",
      "Price: 500.00\n",
      "Reservation Status: Not Reserved\n",
      "Ticket reserved successfully.\n",
      "Ticket Information:\n",
      "Ticket ID: T2023\n",
      "Event Name: New year live show\n",
      "Event Date: 31-12-2023\n",
      "Venue: Central hall\n",
      "Seat Number: S-111\n",
      "Price: 500.00\n",
      "Reservation Status: Reserved\n",
      "Reservation canceled successfully.\n",
      "Ticket Information:\n",
      "Ticket ID: T2023\n",
      "Event Name: New year live show\n",
      "Event Date: 31-12-2023\n",
      "Venue: Central hall\n",
      "Seat Number: S-111\n",
      "Price: 500.00\n",
      "Reservation Status: Not Reserved\n"
     ]
    }
   ],
   "source": [
    "##creating an instance of Myclass \n",
    "\n",
    "Ticket1=Ticket(\"T2023\",\"New year live show\",\"31-12-2023\",\"Central hall\",\"S-111\",500)\n",
    "Ticket1.display_ticket_info()\n",
    "\n",
    "#call the method with the instance\n",
    "Ticket1.reserved_ticket()\n",
    "Ticket1.display_ticket_info()\n",
    "\n",
    "Ticket1.cancel_reservation()\n",
    "Ticket1.display_ticket_info()\n",
    "\n",
    "\n",
    "#the Ticket class encapsulates the attributes related to a ticket and \n",
    "#provides methods for reserving and canceling reservations, as well as displaying ticket information. \n",
    "#The is_reserved attribute tracks the reservation status of the ticket.\n",
    "\n"
   ]
  },
  {
   "cell_type": "markdown",
   "id": "45010534",
   "metadata": {},
   "source": [
    "### 9. You are creating a shopping cart for an e-commerce website. Using OOP to modelthe \"ShoppingCart\" functionality the class should contain following attributes and\n",
    "\n",
    "methods:\n",
    "\n",
    "a. items: Represents the list of items in the shopping cart.\n",
    "The class also includes the following methods:\n",
    "\n",
    "a. add_item(self, item): Adds an item to the shopping cart by appending it to the\n",
    "list of items.\n",
    "\n",
    "b. remove_item(self, item): Removes an item from the shopping cart if it exists in\n",
    "the list.\n",
    "\n",
    "c. view_cart(self): Displays the items currently present in the shopping cart.\n",
    "\n",
    "d. clear_cart(self): Clears all items from the shopping cart by reassigning an\n",
    "empty list to the items attribute."
   ]
  },
  {
   "cell_type": "code",
   "execution_count": 13,
   "id": "16e4769a",
   "metadata": {},
   "outputs": [],
   "source": [
    "class ShoppingCart:\n",
    "    def __init__(self):\n",
    "        self.items=[]\n",
    "        \n",
    "    def add_item(self,item):\n",
    "        self.items.append(item)\n",
    "        print(f\"{item} added to the cart.\")\n",
    "        \n",
    "    def remove_item(self,item):\n",
    "        if item in self.items:\n",
    "            self.items.remove(item)\n",
    "            print(f\"{item} removed from the cart.\")\n",
    "        else:\n",
    "            print(f\"{item} not found in the cart.\")\n",
    "            \n",
    "    def view_cart(self):\n",
    "        if self.items:\n",
    "            print(\"Items in the cart:\")\n",
    "            for item in self.items:\n",
    "                print(f\"{item}\")\n",
    "                \n",
    "        else:\n",
    "            print(\"Cart is empty.\")\n",
    "    \n",
    "    def clear_cart(self):\n",
    "        self.items = []\n",
    "        print(\"Cart cleared.\")\n",
    "        \n",
    "# The items attribute is a list that holds the items in the cart.\n",
    "# The methods add_item, remove_item, view_cart, and clear_cart provide the \n",
    "# necessary functionality to interact with the shopping cart.        \n",
    "            \n",
    "            "
   ]
  },
  {
   "cell_type": "code",
   "execution_count": null,
   "id": "69a71c5c",
   "metadata": {},
   "outputs": [],
   "source": []
  },
  {
   "cell_type": "code",
   "execution_count": 14,
   "id": "f2f7d683",
   "metadata": {},
   "outputs": [
    {
     "name": "stdout",
     "output_type": "stream",
     "text": [
      "item 1 added to the cart.\n",
      "item 2 added to the cart.\n",
      "item 3 added to the cart.\n",
      "Items in the cart:\n",
      "item 1\n",
      "item 2\n",
      "item 3\n",
      "item 3 removed from the cart.\n",
      "Items in the cart:\n",
      "item 1\n",
      "item 2\n",
      "Cart cleared.\n",
      "Cart is empty.\n"
     ]
    }
   ],
   "source": [
    "\n",
    "cart = ShoppingCart()\n",
    "\n",
    "cart.add_item(\"item 1\")\n",
    "cart.add_item(\"item 2\")\n",
    "cart.add_item(\"item 3\")\n",
    "\n",
    "cart.view_cart()\n",
    "\n",
    "cart.remove_item(\"item 3\")\n",
    "\n",
    "cart.view_cart()\n",
    "\n",
    "cart.clear_cart()\n",
    "\n",
    "cart.view_cart()\n",
    "\n"
   ]
  },
  {
   "cell_type": "markdown",
   "id": "e6ba286d",
   "metadata": {},
   "source": [
    "### 10. Imagine a school management system. You have to design the \"Student\" class usingOOP concepts.The “Student” class has the following attributes:\n",
    "a. name: Represents the name of the student.\n",
    "\n",
    "b. age: Represents the age of the student.\n",
    "\n",
    "c. grade: Represents the grade or class of the student.\n",
    "\n",
    "d. student_id: Represents the unique identifier for the student.\n",
    "\n",
    "e. attendance: Represents the attendance record of the student.\n",
    "\n",
    "The class should also include the following methods:\n",
    "\n",
    "a. update_attendance(self, date, status): Updates the attendance record of the\n",
    "student for a given date with the provided status (e.g., present or absent).\n",
    "\n",
    "b. get_attendance(self): Returns the attendance record of the student.\n",
    "\n",
    "c. get_average_attendance(self): Calculates and returns the average\n",
    "attendance percentage of the student based on their attendance record."
   ]
  },
  {
   "cell_type": "code",
   "execution_count": 15,
   "id": "0fdd560a",
   "metadata": {},
   "outputs": [],
   "source": [
    "class Student:\n",
    "    def __init__(self, name, age, grade, student_id):\n",
    "        self.name = name\n",
    "        self.age = age\n",
    "        self.grade = grade\n",
    "        self.student_id = student_id\n",
    "        self.attendance = {}  # Using a dictionary to store attendance records\n",
    "\n",
    "    def update_attendance(self, date, status):\n",
    "        if date not in self.attendance:\n",
    "            self.attendance[date] = status\n",
    "            print(f\"Attendance updated for {self.name} on {date}: {status}\")\n",
    "        else:\n",
    "            print(f\"Attendance already recorded for {self.name} on {date}.\")\n",
    "\n",
    "    def get_attendance(self):\n",
    "        return self.attendance\n",
    "\n",
    "    def get_average_attendance(self):\n",
    "        total_days = len(self.attendance)\n",
    "        if total_days == 0:\n",
    "            return 0  # Avoid division by zero\n",
    "        present_days = sum(1 for status in self.attendance.values() if status == \"present\")\n",
    "        average_attendance = (present_days / total_days) * 100\n",
    "        return average_attendance\n",
    "    \n",
    "#The attendance attribute is a dictionary that stores attendance records, \n",
    "#where the keys are dates and values are attendance statuses (\"present\" or \"absent\").\n",
    "#The methods update_attendance, get_attendance, and get_average_attendance provide the \n",
    "#functionality to interact with the student's attendance records.\n"
   ]
  },
  {
   "cell_type": "code",
   "execution_count": 16,
   "id": "cac5c2dd",
   "metadata": {},
   "outputs": [
    {
     "name": "stdout",
     "output_type": "stream",
     "text": [
      "Attendance updated for Neha Shankar on 2023-08-01: present\n",
      "Attendance updated for Neha Shankar on 2023-08-02: absent\n",
      "Attendance updated for Neha Shankar on 2023-08-03: present\n",
      "Attendance Record:\n",
      "{'2023-08-01': 'present', '2023-08-02': 'absent', '2023-08-03': 'present'}\n",
      "Average Attendance: 66.67%\n"
     ]
    }
   ],
   "source": [
    "student1 = Student(\"Neha Shankar\", 15, \"10th\", \"06035\")\n",
    "student1.update_attendance(\"2023-08-01\", \"present\")\n",
    "student1.update_attendance(\"2023-08-02\", \"absent\")\n",
    "student1.update_attendance(\"2023-08-03\", \"present\")\n",
    "\n",
    "print(\"Attendance Record:\")\n",
    "print(student1.get_attendance())\n",
    "\n",
    "average_attendance = student1.get_average_attendance()\n",
    "print(f\"Average Attendance: {average_attendance:.2f}%\")\n",
    "\n",
    "\n",
    "\n",
    "\n",
    "\n"
   ]
  },
  {
   "cell_type": "code",
   "execution_count": null,
   "id": "092264b2",
   "metadata": {},
   "outputs": [],
   "source": []
  },
  {
   "cell_type": "code",
   "execution_count": null,
   "id": "bb586ee3",
   "metadata": {},
   "outputs": [],
   "source": []
  },
  {
   "cell_type": "code",
   "execution_count": null,
   "id": "f854b100",
   "metadata": {},
   "outputs": [],
   "source": []
  },
  {
   "cell_type": "code",
   "execution_count": null,
   "id": "ffe84851",
   "metadata": {},
   "outputs": [],
   "source": []
  }
 ],
 "metadata": {
  "kernelspec": {
   "display_name": "Python 3 (ipykernel)",
   "language": "python",
   "name": "python3"
  },
  "language_info": {
   "codemirror_mode": {
    "name": "ipython",
    "version": 3
   },
   "file_extension": ".py",
   "mimetype": "text/x-python",
   "name": "python",
   "nbconvert_exporter": "python",
   "pygments_lexer": "ipython3",
   "version": "3.10.9"
  }
 },
 "nbformat": 4,
 "nbformat_minor": 5
}
